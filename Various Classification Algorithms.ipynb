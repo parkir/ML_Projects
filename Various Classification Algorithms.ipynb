{
  "nbformat": 4,
  "nbformat_minor": 0,
  "metadata": {
    "colab": {
      "name": "code.ipynb",
      "provenance": [],
      "collapsed_sections": [],
      "include_colab_link": true
    },
    "kernelspec": {
      "name": "python3",
      "display_name": "Python 3"
    }
  },
  "cells": [
    {
      "cell_type": "markdown",
      "metadata": {
        "id": "view-in-github",
        "colab_type": "text"
      },
      "source": [
        "<a href=\"https://colab.research.google.com/github/parkir/ML_Projects/blob/master/Various%20Classification%20Algorithms.ipynb\" target=\"_parent\"><img src=\"https://colab.research.google.com/assets/colab-badge.svg\" alt=\"Open In Colab\"/></a>"
      ]
    },
    {
      "cell_type": "code",
      "metadata": {
        "id": "uNkA15hqagp7",
        "colab_type": "code",
        "colab": {
          "base_uri": "https://localhost:8080/",
          "height": 138
        },
        "outputId": "b77abe1b-3a35-4484-b310-355beba961ab"
      },
      "source": [
        "from google.colab import drive\n",
        "drive.mount('/content/gdrive')"
      ],
      "execution_count": null,
      "outputs": [
        {
          "output_type": "stream",
          "text": [
            "Go to this URL in a browser: https://accounts.google.com/o/oauth2/auth?client_id=947318989803-6bn6qk8qdgf4n4g3pfee6491hc0brc4i.apps.googleusercontent.com&redirect_uri=urn%3aietf%3awg%3aoauth%3a2.0%3aoob&response_type=code&scope=email%20https%3a%2f%2fwww.googleapis.com%2fauth%2fdocs.test%20https%3a%2f%2fwww.googleapis.com%2fauth%2fdrive%20https%3a%2f%2fwww.googleapis.com%2fauth%2fdrive.photos.readonly%20https%3a%2f%2fwww.googleapis.com%2fauth%2fpeopleapi.readonly\n",
            "\n",
            "Enter your authorization code:\n",
            "··········\n",
            "Mounted at /content/gdrive\n",
            "Drive already mounted at /content/gdrive; to attempt to forcibly remount, call drive.mount(\"/content/gdrive\", force_remount=True).\n"
          ],
          "name": "stdout"
        }
      ]
    },
    {
      "cell_type": "code",
      "metadata": {
        "id": "2k-gQ9Wta9Lm",
        "colab_type": "code",
        "colab": {}
      },
      "source": [
        "import pandas as pd\n",
        "import numpy as np\n",
        "import seaborn as sns\n",
        "import matplotlib.pyplot as plt\n",
        "%matplotlib inline\n",
        "import warnings\n",
        "warnings.filterwarnings(\"ignore\")\n",
        "\n",
        "from sklearn.preprocessing import StandardScaler\n",
        "from sklearn import metrics\n",
        "from sklearn.metrics import confusion_matrix, accuracy_score, classification_report\n",
        "from sklearn.model_selection import KFold, cross_val_score, train_test_split\n",
        "\n",
        "from sklearn.linear_model import LogisticRegression\n",
        "from sklearn.naive_bayes import GaussianNB\n",
        "from sklearn.discriminant_analysis import LinearDiscriminantAnalysis\n",
        "from sklearn.svm import SVC\n",
        "from sklearn.neighbors import KNeighborsClassifier\n",
        "from sklearn.tree import DecisionTreeClassifier\n",
        "\n",
        "from mlxtend.evaluate import confusion_matrix\n",
        "from mlxtend.plotting import plot_confusion_matrix"
      ],
      "execution_count": null,
      "outputs": []
    },
    {
      "cell_type": "code",
      "metadata": {
        "id": "J8Ee9cn_bB8-",
        "colab_type": "code",
        "colab": {}
      },
      "source": [
        "# Load dataset\n",
        "dataset = pd.read_csv('/content/gdrive/My Drive/Thesis/Thesis-shared/data/WineWithHeader.csv')"
      ],
      "execution_count": null,
      "outputs": []
    },
    {
      "cell_type": "code",
      "metadata": {
        "id": "-9f63Vzr6_TB",
        "colab_type": "code",
        "colab": {}
      },
      "source": [
        "# Retrieve rows from dataset\n",
        "X = dataset.iloc[:,1:]\n",
        "y = dataset.iloc[:,0]\n",
        "\n",
        "# Feature Scaling\n",
        "slc= StandardScaler()\n",
        "X = slc.fit_transform(X)\n",
        "\n",
        "# Spliting data\n",
        "X_train, X_test, y_train, y_test = train_test_split(X, y, test_size = 0.2, random_state = 0)"
      ],
      "execution_count": null,
      "outputs": []
    },
    {
      "cell_type": "code",
      "metadata": {
        "id": "wTvLGzPrmeQD",
        "colab_type": "code",
        "colab": {
          "base_uri": "https://localhost:8080/",
          "height": 1000
        },
        "outputId": "d4a271dc-226a-44f1-924f-5649cbb50caa"
      },
      "source": [
        "# Define each model\n",
        "models = []\n",
        "models.append(('Logistic Regression', LogisticRegression()))\n",
        "models.append(('Naive Bayes', GaussianNB()))\n",
        "models.append(('k Nearest Neighbor ', KNeighborsClassifier()))\n",
        "models.append(('Support Vector Machine', SVC()))\n",
        "\n",
        "for name, model in models:\n",
        "    # Train the model\n",
        "    model.fit(X_train, y_train)\n",
        "    # Predict\n",
        "    prediction = model.predict(X_test)\n",
        "    # Accuracy\n",
        "    accuracy = accuracy_score(y_test, prediction)\n",
        "    print(\"Algorithm: \", name)\n",
        "    print(\"Accuracy: \", accuracy)\n",
        "    # Precision, Recall, f1-score\n",
        "    m = metrics.classification_report(y_test,prediction, digits=3)\n",
        "    print(m)\n",
        "    print(\"-----Confusion Matrix-----\")\n",
        "    cm = confusion_matrix(y_test, prediction)\n",
        "    fig, ax = plot_confusion_matrix(conf_mat=cm)\n",
        "    plt.ylabel(\"True Values\")\n",
        "    plt.xlabel(\"Predicted Values\")\n",
        "    plt.title(\"Confusion Matrix Visulaization\")\n",
        "    plt.show()\n",
        "    print(\"Confusion Matrix:\\n\", cm)\n",
        "    print(\"\\n\")\n",
        "\n",
        "\n",
        "    print(\"_____________________________________________________________________________________\\n\")\n",
        "  \n"
      ],
      "execution_count": null,
      "outputs": [
        {
          "output_type": "stream",
          "text": [
            "Algorithm:  Logistic Regression\n",
            "Accuracy:  1.0\n",
            "              precision    recall  f1-score   support\n",
            "\n",
            "           1      1.000     1.000     1.000        14\n",
            "           2      1.000     1.000     1.000        16\n",
            "           3      1.000     1.000     1.000         6\n",
            "\n",
            "    accuracy                          1.000        36\n",
            "   macro avg      1.000     1.000     1.000        36\n",
            "weighted avg      1.000     1.000     1.000        36\n",
            "\n",
            "-----Confusion Matrix-----\n"
          ],
          "name": "stdout"
        },
        {
          "output_type": "display_data",
          "data": {
            "image/png": "[encoded data removed]",
            "text/plain": [
              "<Figure size 432x288 with 1 Axes>"
            ]
          },
          "metadata": {
            "tags": []
          }
        },
        {
          "output_type": "stream",
          "text": [
            "Confusion Matrix:\n",
            " [[14  0  0]\n",
            " [ 0 16  0]\n",
            " [ 0  0  6]]\n",
            "\n",
            "\n",
            "_____________________________________________________________________________________\n",
            "\n",
            "Algorithm:  Naive Bayes\n",
            "Accuracy:  0.9166666666666666\n",
            "              precision    recall  f1-score   support\n",
            "\n",
            "           1      0.875     1.000     0.933        14\n",
            "           2      1.000     0.812     0.897        16\n",
            "           3      0.857     1.000     0.923         6\n",
            "\n",
            "    accuracy                          0.917        36\n",
            "   macro avg      0.911     0.938     0.918        36\n",
            "weighted avg      0.928     0.917     0.915        36\n",
            "\n",
            "-----Confusion Matrix-----\n"
          ],
          "name": "stdout"
        },
        {
          "output_type": "display_data",
          "data": {
            "image/png": "[encoded data removed]",
            "text/plain": [
              "<Figure size 432x288 with 1 Axes>"
            ]
          },
          "metadata": {
            "tags": []
          }
        },
        {
          "output_type": "stream",
          "text": [
            "Confusion Matrix:\n",
            " [[14  0  0]\n",
            " [ 2 13  1]\n",
            " [ 0  0  6]]\n",
            "\n",
            "\n",
            "_____________________________________________________________________________________\n",
            "\n",
            "Algorithm:  k Nearest Neighbor \n",
            "Accuracy:  0.9722222222222222\n",
            "              precision    recall  f1-score   support\n",
            "\n",
            "           1      1.000     1.000     1.000        14\n",
            "           2      1.000     0.938     0.968        16\n",
            "           3      0.857     1.000     0.923         6\n",
            "\n",
            "    accuracy                          0.972        36\n",
            "   macro avg      0.952     0.979     0.964        36\n",
            "weighted avg      0.976     0.972     0.973        36\n",
            "\n",
            "-----Confusion Matrix-----\n"
          ],
          "name": "stdout"
        },
        {
          "output_type": "display_data",
          "data": {
            "image/png": "[encoded data removed]",
            "text/plain": [
              "<Figure size 432x288 with 1 Axes>"
            ]
          },
          "metadata": {
            "tags": []
          }
        },
        {
          "output_type": "stream",
          "text": [
            "Confusion Matrix:\n",
            " [[14  0  0]\n",
            " [ 0 15  1]\n",
            " [ 0  0  6]]\n",
            "\n",
            "\n",
            "_____________________________________________________________________________________\n",
            "\n",
            "Algorithm:  Support Vector Machine\n",
            "Accuracy:  1.0\n",
            "              precision    recall  f1-score   support\n",
            "\n",
            "           1      1.000     1.000     1.000        14\n",
            "           2      1.000     1.000     1.000        16\n",
            "           3      1.000     1.000     1.000         6\n",
            "\n",
            "    accuracy                          1.000        36\n",
            "   macro avg      1.000     1.000     1.000        36\n",
            "weighted avg      1.000     1.000     1.000        36\n",
            "\n",
            "-----Confusion Matrix-----\n"
          ],
          "name": "stdout"
        },
        {
          "output_type": "display_data",
          "data": {
            "image/png": "[encoded data removed]",
            "text/plain": [
              "<Figure size 432x288 with 1 Axes>"
            ]
          },
          "metadata": {
            "tags": []
          }
        },
        {
          "output_type": "stream",
          "text": [
            "Confusion Matrix:\n",
            " [[14  0  0]\n",
            " [ 0 16  0]\n",
            " [ 0  0  6]]\n",
            "\n",
            "\n",
            "_____________________________________________________________________________________\n",
            "\n"
          ],
          "name": "stdout"
        }
      ]
    }
  ]
}