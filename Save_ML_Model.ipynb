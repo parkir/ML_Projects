{
  "nbformat": 4,
  "nbformat_minor": 0,
  "metadata": {
    "colab": {
      "name": "Save ML Model",
      "provenance": [],
      "authorship_tag": "ABX9TyNavdYGLhXReldYqQtudnu9",
      "include_colab_link": true
    },
    "kernelspec": {
      "name": "python3",
      "display_name": "Python 3"
    }
  },
  "cells": [
    {
      "cell_type": "markdown",
      "metadata": {
        "id": "view-in-github",
        "colab_type": "text"
      },
      "source": [
        "<a href=\"https://colab.research.google.com/github/parkir/MachineLearning-Notes/blob/master/Save_ML_Model.ipynb\" target=\"_parent\"><img src=\"https://colab.research.google.com/assets/colab-badge.svg\" alt=\"Open In Colab\"/></a>"
      ]
    },
    {
      "cell_type": "markdown",
      "metadata": {
        "id": "FfcWbFFY1Bz2"
      },
      "source": [
        "#**Scikit-Learn Machine Learning Models**\r\n"
      ]
    },
    {
      "cell_type": "markdown",
      "metadata": {
        "id": "knjoMFOV1LXA"
      },
      "source": [
        "##**2.1 Save The Model**"
      ]
    },
    {
      "cell_type": "markdown",
      "metadata": {
        "id": "oB5RNfQlncfr"
      },
      "source": [
        "[Pickle](https://docs.python.org/2/library/pickle.html) is the standard way of serializing objects in Python.\r\n",
        "\r\n",
        "You can use the pickle operation to serialize your machine learning algorithms and save the serialized format to a file.\r\n",
        "\r\n",
        "Later you can load this file to deserialize your model and use it to make new predictions.\r\n",
        "\r\n",
        "The example below demonstrates how you can train a logistic regression model on the Pima Indians onset of diabetes dataset, save the model to file and load it to make predictions on the unseen test set (download from here).\r\n",
        "\r\n"
      ]
    },
    {
      "cell_type": "code",
      "metadata": {
        "id": "PBRzQUNb0h5d"
      },
      "source": [
        "from sklearn.linear_model import LogisticRegression\r\n",
        "import pickle\r\n",
        "model = LogisticRegression()\r\n",
        "model.fit(xtrain, ytrain)\r\n",
        "# save the model to disk\r\n",
        "pickle.dump(model, open(model_file_path, 'wb'))\r\n"
      ],
      "execution_count": null,
      "outputs": []
    },
    {
      "cell_type": "markdown",
      "metadata": {
        "id": "OlrV9UTo1PZF"
      },
      "source": [
        "##**2.2 Load The Model**\r\n"
      ]
    },
    {
      "cell_type": "markdown",
      "metadata": {
        "id": "B0p9c7SD1Uvz"
      },
      "source": [
        "Use Pickle to deserialise and save the models\r\n"
      ]
    },
    {
      "cell_type": "code",
      "metadata": {
        "id": "kc2kK4eL1XZT"
      },
      "source": [
        "model = pickle.load(open(model_file_path, 'rb'))\r\n",
        "result_val = model.score(xval, yval)\r\n",
        "result_test = model.score(xtest, ytest)\r\n"
      ],
      "execution_count": null,
      "outputs": []
    },
    {
      "cell_type": "markdown",
      "metadata": {
        "id": "tgRot3Jz1akC"
      },
      "source": [
        "##**2.3 Save The Model**\r\n"
      ]
    },
    {
      "cell_type": "markdown",
      "metadata": {
        "id": "XvHwgHvp1dXr"
      },
      "source": [
        "Use JobLib to serialise and save the models\r\n"
      ]
    },
    {
      "cell_type": "code",
      "metadata": {
        "id": "WEhlQ_TD1gMy"
      },
      "source": [
        "from sklearn.linear_model import LogisticRegression\r\n",
        "from sklearn.externals import joblib\r\n",
        "model = LogisticRegression()\r\n",
        "model.fit(xtrain, ytrain)\r\n",
        "# save the model to disk\r\n",
        "joblib.dump(model, model_file_path)\r\n"
      ],
      "execution_count": null,
      "outputs": []
    },
    {
      "cell_type": "markdown",
      "metadata": {
        "id": "Miyyr8aG1hq6"
      },
      "source": [
        "##**2.4 Load The Model**\r\n"
      ]
    },
    {
      "cell_type": "markdown",
      "metadata": {
        "id": "9H_4fsAP1k68"
      },
      "source": [
        "Use JobLib to deserialise and save the models\r\n"
      ]
    },
    {
      "cell_type": "code",
      "metadata": {
        "id": "n49bpYZt1l-c"
      },
      "source": [
        "model = joblib.load(model_file_path)\r\n",
        "result_val = model.score(xval, yval)\r\n",
        "result_test = model.score(xtest, ytest)\r\n"
      ],
      "execution_count": null,
      "outputs": []
    }
  ]
}