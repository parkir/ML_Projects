{
  "nbformat": 4,
  "nbformat_minor": 0,
  "metadata": {
    "colab": {
      "name": "Save ML Model",
      "provenance": [],
      "authorship_tag": "ABX9TyMSe9TH12TFql9Nos62J6U1",
      "include_colab_link": true
    },
    "kernelspec": {
      "name": "python3",
      "display_name": "Python 3"
    }
  },
  "cells": [
    {
      "cell_type": "markdown",
      "metadata": {
        "id": "view-in-github",
        "colab_type": "text"
      },
      "source": [
        "<a href=\"https://colab.research.google.com/github/parkir/MachineLearning-Notes/blob/master/Save_ML_Model.ipynb\" target=\"_parent\"><img src=\"https://colab.research.google.com/assets/colab-badge.svg\" alt=\"Open In Colab\"/></a>"
      ]
    },
    {
      "cell_type": "markdown",
      "metadata": {
        "id": "FfcWbFFY1Bz2"
      },
      "source": [
        "#**Scikit-Learn Machine Learning Models**\r\n"
      ]
    },
    {
      "cell_type": "markdown",
      "metadata": {
        "id": "_Bs-7MKDlNif"
      },
      "source": [
        "##**Save the trained model with Pickle**"
      ]
    },
    {
      "cell_type": "markdown",
      "metadata": {
        "id": "oB5RNfQlncfr"
      },
      "source": [
        "[Pickle](https://docs.python.org/2/library/pickle.html) is the standard way of serializing objects in Python.\r\n",
        "\r\n",
        "You can use the pickle operation to serialize your machine learning algorithms and save the serialized format to a file.\r\n",
        "\r\n",
        "Later you can load this file to deserialize your model and use it to make new predictions.\r\n",
        "\r\n"
      ]
    },
    {
      "cell_type": "code",
      "metadata": {
        "id": "PBRzQUNb0h5d"
      },
      "source": [
        "from sklearn.linear_model import LogisticRegression\r\n",
        "import pickle\r\n",
        "model = LogisticRegression()\r\n",
        "model.fit(xtrain, ytrain)\r\n",
        "# save the model to disk\r\n",
        "trained_model_name = 'finalized__trained_model.sav'\r\n",
        "pickle.dump(model, open(trained_model_name, 'wb'))\r\n"
      ],
      "execution_count": null,
      "outputs": []
    },
    {
      "cell_type": "code",
      "metadata": {
        "id": "kc2kK4eL1XZT"
      },
      "source": [
        "# load the model from disk\r\n",
        "trained_loaded_model = pickle.load(open(trained_model_name, 'rb'))\r\n",
        "result_val = trained_loaded_model.score(xval, yval)\r\n"
      ],
      "execution_count": null,
      "outputs": []
    },
    {
      "cell_type": "markdown",
      "metadata": {
        "id": "tgRot3Jz1akC"
      },
      "source": [
        "##**Save the trained model with Joblib**"
      ]
    },
    {
      "cell_type": "markdown",
      "metadata": {
        "id": "XvHwgHvp1dXr"
      },
      "source": [
        "Use JobLib to serialise and save the models\r\n",
        "\r\n",
        "**Joblib** is part of the SciPy ecosystem and provides utilities for pipelining Python jobs.\r\n",
        "\r\n",
        "This can be useful for some machine learning algorithms that require a lot of parameters or store the entire dataset (like K-Nearest Neighbors).\r\n"
      ]
    },
    {
      "cell_type": "code",
      "metadata": {
        "id": "WEhlQ_TD1gMy"
      },
      "source": [
        "from sklearn.linear_model import LogisticRegression\r\n",
        "from sklearn.externals import joblib\r\n",
        "model = LogisticRegression()\r\n",
        "model.fit(xtrain, ytrain)\r\n",
        "# save the model to disk\r\n",
        "trained_model_name = 'finalized__trained_model.sav'\r\n",
        "joblib.dump(model, trained_model_name)\r\n"
      ],
      "execution_count": null,
      "outputs": []
    },
    {
      "cell_type": "markdown",
      "metadata": {
        "id": "Miyyr8aG1hq6"
      },
      "source": [
        "##**2.4 Load The Model**\r\n"
      ]
    },
    {
      "cell_type": "code",
      "metadata": {
        "id": "n49bpYZt1l-c"
      },
      "source": [
        "# load the model from disk\r\n",
        "model = joblib.load(trained_model_name)\r\n",
        "result_val = model.score(xval, yval)\r\n"
      ],
      "execution_count": null,
      "outputs": []
    }
  ]
}