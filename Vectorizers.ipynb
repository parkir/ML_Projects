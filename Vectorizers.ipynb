{
  "nbformat": 4,
  "nbformat_minor": 0,
  "metadata": {
    "colab": {
      "name": "Vectorizers",
      "provenance": [],
      "authorship_tag": "ABX9TyP+5JfUnCJgPQzwkULN7SXi",
      "include_colab_link": true
    },
    "kernelspec": {
      "name": "python3",
      "display_name": "Python 3"
    }
  },
  "cells": [
    {
      "cell_type": "markdown",
      "metadata": {
        "id": "view-in-github",
        "colab_type": "text"
      },
      "source": [
        "<a href=\"https://colab.research.google.com/github/parkir/MachineLearning-Notes/blob/master/Vectorizers.ipynb\" target=\"_parent\"><img src=\"https://colab.research.google.com/assets/colab-badge.svg\" alt=\"Open In Colab\"/></a>"
      ]
    },
    {
      "cell_type": "markdown",
      "metadata": {
        "id": "R7KCFAX77Ft1"
      },
      "source": [
        "#**Count Vectorizer**"
      ]
    },
    {
      "cell_type": "markdown",
      "metadata": {
        "id": "fGhL4zZ67SKR"
      },
      "source": [
        "Convert a collection of text documents to a matrix of token counts\r\n",
        "\r\n",
        "\r\n",
        "Count Vectorization with [scikit-learn](https://scikit-learn.org/stable/modules/generated/sklearn.feature_extraction.text.CountVectorizer.html)\r\n"
      ]
    },
    {
      "cell_type": "markdown",
      "metadata": {
        "id": "Spa_zILa7rl8"
      },
      "source": [
        "CountVectorizer creates a matrix in which each unique word is represented by a column of the matrix, and each text sample from the document is a row in the matrix. The value of each cell is nothing but the count of the word in that particular text sample. \r\n"
      ]
    },
    {
      "cell_type": "code",
      "metadata": {
        "colab": {
          "base_uri": "https://localhost:8080/"
        },
        "id": "gZdZgc1a-oIk",
        "outputId": "432e7348-d01b-4fd3-b276-942bc956a5e0"
      },
      "source": [
        "from sklearn.feature_extraction.text import CountVectorizer\r\n",
        "\r\n",
        "document = [\"One Geek helps Two Geeks\", \r\n",
        "            \"Two Geeks help Four Geeks\", \r\n",
        "            \"Each Geek helps many other Geeks at GeeksforGeeks\"] \r\n",
        "  \r\n",
        "# Create a Vectorizer Object \r\n",
        "vectorizer = CountVectorizer()\r\n",
        "\r\n",
        "# tokenize and build vocab\r\n",
        "vectorizer.fit(document)\r\n",
        "\r\n",
        "print(\"Vocabulary: \", vectorizer.vocabulary_)\r\n",
        "\r\n",
        "# Encode the document\r\n",
        "vector = vectorizer.transform(document)\r\n",
        "\r\n",
        "# summarize encoded vector\r\n",
        "print(\"Shape: \", vector.shape)\r\n",
        "print(\"Encoded Document: \\n\", vector.toarray())"
      ],
      "execution_count": 7,
      "outputs": [
        {
          "output_type": "stream",
          "text": [
            "Vocabulary:  {'one': 9, 'geek': 3, 'helps': 7, 'two': 11, 'geeks': 4, 'help': 6, 'four': 2, 'each': 1, 'many': 8, 'other': 10, 'at': 0, 'geeksforgeeks': 5}\n",
            "Shape:  (3, 12)\n",
            "Encoded Document: \n",
            " [[0 0 0 1 1 0 0 1 0 1 0 1]\n",
            " [0 0 1 0 2 0 1 0 0 0 0 1]\n",
            " [1 1 0 1 1 1 0 1 1 0 1 0]]\n"
          ],
          "name": "stdout"
        }
      ]
    },
    {
      "cell_type": "code",
      "metadata": {
        "id": "qNuYukX067Rc"
      },
      "source": [
        ""
      ],
      "execution_count": null,
      "outputs": []
    }
  ]
}